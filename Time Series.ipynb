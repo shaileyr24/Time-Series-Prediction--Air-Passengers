{
 "cells": [
  {
   "cell_type": "code",
   "execution_count": 1,
   "metadata": {},
   "outputs": [],
   "source": [
    "import numpy as np\n",
    "import pandas as pd\n",
    "import math\n",
    "from keras.models import Sequential\n",
    "from keras.layers import Dense\n",
    "from keras.layers import LSTM\n",
    "import matplotlib.pyplot as plt\n",
    "from pandas import Series\n",
    "from matplotlib import pyplot\n",
    "import warnings\n",
    "warnings.filterwarnings(\"ignore\")\n",
    "plt.style.use('seaborn-dark')\n",
    "import math\n",
    "from keras.models import Sequential\n",
    "from keras.layers import Dense\n",
    "from keras.layers import LSTM\n",
    "from sklearn.preprocessing import MinMaxScaler\n",
    "from sklearn.metrics import mean_squared_error\n",
    "\n",
    "\n",
    "from random import random\n",
    "\n",
    "from sklearn.metrics import mean_squared_error, r2_score, mean_absolute_error, median_absolute_error, mean_squared_log_error"
   ]
  },
  {
   "cell_type": "code",
   "execution_count": 2,
   "metadata": {},
   "outputs": [],
   "source": [
    "df = pd.read_csv('international-airline-passengers.csv')"
   ]
  },
  {
   "cell_type": "code",
   "execution_count": 3,
   "metadata": {},
   "outputs": [
    {
     "data": {
      "text/html": [
       "<div>\n",
       "<style scoped>\n",
       "    .dataframe tbody tr th:only-of-type {\n",
       "        vertical-align: middle;\n",
       "    }\n",
       "\n",
       "    .dataframe tbody tr th {\n",
       "        vertical-align: top;\n",
       "    }\n",
       "\n",
       "    .dataframe thead th {\n",
       "        text-align: right;\n",
       "    }\n",
       "</style>\n",
       "<table border=\"1\" class=\"dataframe\">\n",
       "  <thead>\n",
       "    <tr style=\"text-align: right;\">\n",
       "      <th></th>\n",
       "      <th>Month</th>\n",
       "      <th>International airline passengers: monthly totals in thousands. Jan 49 ? Dec 60</th>\n",
       "    </tr>\n",
       "  </thead>\n",
       "  <tbody>\n",
       "    <tr>\n",
       "      <th>0</th>\n",
       "      <td>1949-01</td>\n",
       "      <td>112</td>\n",
       "    </tr>\n",
       "    <tr>\n",
       "      <th>1</th>\n",
       "      <td>1949-02</td>\n",
       "      <td>118</td>\n",
       "    </tr>\n",
       "    <tr>\n",
       "      <th>2</th>\n",
       "      <td>1949-03</td>\n",
       "      <td>132</td>\n",
       "    </tr>\n",
       "    <tr>\n",
       "      <th>3</th>\n",
       "      <td>1949-04</td>\n",
       "      <td>129</td>\n",
       "    </tr>\n",
       "    <tr>\n",
       "      <th>4</th>\n",
       "      <td>1949-05</td>\n",
       "      <td>121</td>\n",
       "    </tr>\n",
       "  </tbody>\n",
       "</table>\n",
       "</div>"
      ],
      "text/plain": [
       "     Month  \\\n",
       "0  1949-01   \n",
       "1  1949-02   \n",
       "2  1949-03   \n",
       "3  1949-04   \n",
       "4  1949-05   \n",
       "\n",
       "   International airline passengers: monthly totals in thousands. Jan 49 ? Dec 60  \n",
       "0                                                112                               \n",
       "1                                                118                               \n",
       "2                                                132                               \n",
       "3                                                129                               \n",
       "4                                                121                               "
      ]
     },
     "execution_count": 3,
     "metadata": {},
     "output_type": "execute_result"
    }
   ],
   "source": [
    "df.head()"
   ]
  },
  {
   "cell_type": "code",
   "execution_count": 4,
   "metadata": {},
   "outputs": [],
   "source": [
    "df.columns = ['year' , 'passengers']"
   ]
  },
  {
   "cell_type": "code",
   "execution_count": 5,
   "metadata": {},
   "outputs": [
    {
     "data": {
      "text/html": [
       "<div>\n",
       "<style scoped>\n",
       "    .dataframe tbody tr th:only-of-type {\n",
       "        vertical-align: middle;\n",
       "    }\n",
       "\n",
       "    .dataframe tbody tr th {\n",
       "        vertical-align: top;\n",
       "    }\n",
       "\n",
       "    .dataframe thead th {\n",
       "        text-align: right;\n",
       "    }\n",
       "</style>\n",
       "<table border=\"1\" class=\"dataframe\">\n",
       "  <thead>\n",
       "    <tr style=\"text-align: right;\">\n",
       "      <th></th>\n",
       "      <th>year</th>\n",
       "      <th>passengers</th>\n",
       "    </tr>\n",
       "  </thead>\n",
       "  <tbody>\n",
       "    <tr>\n",
       "      <th>0</th>\n",
       "      <td>1949-01</td>\n",
       "      <td>112</td>\n",
       "    </tr>\n",
       "    <tr>\n",
       "      <th>1</th>\n",
       "      <td>1949-02</td>\n",
       "      <td>118</td>\n",
       "    </tr>\n",
       "    <tr>\n",
       "      <th>2</th>\n",
       "      <td>1949-03</td>\n",
       "      <td>132</td>\n",
       "    </tr>\n",
       "    <tr>\n",
       "      <th>3</th>\n",
       "      <td>1949-04</td>\n",
       "      <td>129</td>\n",
       "    </tr>\n",
       "    <tr>\n",
       "      <th>4</th>\n",
       "      <td>1949-05</td>\n",
       "      <td>121</td>\n",
       "    </tr>\n",
       "  </tbody>\n",
       "</table>\n",
       "</div>"
      ],
      "text/plain": [
       "      year  passengers\n",
       "0  1949-01         112\n",
       "1  1949-02         118\n",
       "2  1949-03         132\n",
       "3  1949-04         129\n",
       "4  1949-05         121"
      ]
     },
     "execution_count": 5,
     "metadata": {},
     "output_type": "execute_result"
    }
   ],
   "source": [
    "df.head()"
   ]
  },
  {
   "cell_type": "code",
   "execution_count": 6,
   "metadata": {},
   "outputs": [
    {
     "data": {
      "text/html": [
       "<div>\n",
       "<style scoped>\n",
       "    .dataframe tbody tr th:only-of-type {\n",
       "        vertical-align: middle;\n",
       "    }\n",
       "\n",
       "    .dataframe tbody tr th {\n",
       "        vertical-align: top;\n",
       "    }\n",
       "\n",
       "    .dataframe thead th {\n",
       "        text-align: right;\n",
       "    }\n",
       "</style>\n",
       "<table border=\"1\" class=\"dataframe\">\n",
       "  <thead>\n",
       "    <tr style=\"text-align: right;\">\n",
       "      <th></th>\n",
       "      <th>passengers</th>\n",
       "    </tr>\n",
       "  </thead>\n",
       "  <tbody>\n",
       "    <tr>\n",
       "      <th>count</th>\n",
       "      <td>144.000000</td>\n",
       "    </tr>\n",
       "    <tr>\n",
       "      <th>mean</th>\n",
       "      <td>280.298611</td>\n",
       "    </tr>\n",
       "    <tr>\n",
       "      <th>std</th>\n",
       "      <td>119.966317</td>\n",
       "    </tr>\n",
       "    <tr>\n",
       "      <th>min</th>\n",
       "      <td>104.000000</td>\n",
       "    </tr>\n",
       "    <tr>\n",
       "      <th>25%</th>\n",
       "      <td>180.000000</td>\n",
       "    </tr>\n",
       "    <tr>\n",
       "      <th>50%</th>\n",
       "      <td>265.500000</td>\n",
       "    </tr>\n",
       "    <tr>\n",
       "      <th>75%</th>\n",
       "      <td>360.500000</td>\n",
       "    </tr>\n",
       "    <tr>\n",
       "      <th>max</th>\n",
       "      <td>622.000000</td>\n",
       "    </tr>\n",
       "  </tbody>\n",
       "</table>\n",
       "</div>"
      ],
      "text/plain": [
       "       passengers\n",
       "count  144.000000\n",
       "mean   280.298611\n",
       "std    119.966317\n",
       "min    104.000000\n",
       "25%    180.000000\n",
       "50%    265.500000\n",
       "75%    360.500000\n",
       "max    622.000000"
      ]
     },
     "execution_count": 6,
     "metadata": {},
     "output_type": "execute_result"
    }
   ],
   "source": [
    "df.describe()"
   ]
  },
  {
   "cell_type": "code",
   "execution_count": 7,
   "metadata": {},
   "outputs": [
    {
     "data": {
      "text/html": [
       "<div>\n",
       "<style scoped>\n",
       "    .dataframe tbody tr th:only-of-type {\n",
       "        vertical-align: middle;\n",
       "    }\n",
       "\n",
       "    .dataframe tbody tr th {\n",
       "        vertical-align: top;\n",
       "    }\n",
       "\n",
       "    .dataframe thead th {\n",
       "        text-align: right;\n",
       "    }\n",
       "</style>\n",
       "<table border=\"1\" class=\"dataframe\">\n",
       "  <thead>\n",
       "    <tr style=\"text-align: right;\">\n",
       "      <th></th>\n",
       "      <th>year</th>\n",
       "    </tr>\n",
       "  </thead>\n",
       "  <tbody>\n",
       "    <tr>\n",
       "      <th>count</th>\n",
       "      <td>144</td>\n",
       "    </tr>\n",
       "    <tr>\n",
       "      <th>unique</th>\n",
       "      <td>144</td>\n",
       "    </tr>\n",
       "    <tr>\n",
       "      <th>top</th>\n",
       "      <td>1953-01</td>\n",
       "    </tr>\n",
       "    <tr>\n",
       "      <th>freq</th>\n",
       "      <td>1</td>\n",
       "    </tr>\n",
       "  </tbody>\n",
       "</table>\n",
       "</div>"
      ],
      "text/plain": [
       "           year\n",
       "count       144\n",
       "unique      144\n",
       "top     1953-01\n",
       "freq          1"
      ]
     },
     "execution_count": 7,
     "metadata": {},
     "output_type": "execute_result"
    }
   ],
   "source": [
    "df.describe(include='O')"
   ]
  },
  {
   "cell_type": "code",
   "execution_count": 8,
   "metadata": {},
   "outputs": [
    {
     "data": {
      "text/plain": [
       "(144, 2)"
      ]
     },
     "execution_count": 8,
     "metadata": {},
     "output_type": "execute_result"
    }
   ],
   "source": [
    "df.shape"
   ]
  },
  {
   "cell_type": "code",
   "execution_count": 9,
   "metadata": {},
   "outputs": [
    {
     "name": "stdout",
     "output_type": "stream",
     "text": [
      "Time period start: 1949-01\n",
      "Time period end: 1960-12\n"
     ]
    }
   ],
   "source": [
    "print('Time period start: {}\\nTime period end: {}'.format(df.year.min(),df.year.max()))"
   ]
  },
  {
   "cell_type": "markdown",
   "metadata": {},
   "source": [
    "### DATA PRE PROCESSING AND VISUALIZATIONS"
   ]
  },
  {
   "cell_type": "code",
   "execution_count": 10,
   "metadata": {},
   "outputs": [],
   "source": [
    "df['year'] = pd.to_datetime(df['year'], format='%Y-%m')"
   ]
  },
  {
   "cell_type": "code",
   "execution_count": 11,
   "metadata": {},
   "outputs": [],
   "source": [
    "y = df.set_index('year')"
   ]
  },
  {
   "cell_type": "code",
   "execution_count": 12,
   "metadata": {},
   "outputs": [
    {
     "data": {
      "text/plain": [
       "passengers    0\n",
       "dtype: int64"
      ]
     },
     "execution_count": 12,
     "metadata": {},
     "output_type": "execute_result"
    }
   ],
   "source": [
    "y.isnull().sum()"
   ]
  },
  {
   "cell_type": "code",
   "execution_count": 13,
   "metadata": {},
   "outputs": [
    {
     "data": {
      "image/png": "[encoded data removed]",
      "text/plain": [
       "<Figure size 1080x432 with 1 Axes>"
      ]
     },
     "metadata": {},
     "output_type": "display_data"
    }
   ],
   "source": [
    "y.plot(figsize=(15, 6))\n",
    "plt.show()"
   ]
  },
  {
   "cell_type": "code",
   "execution_count": 14,
   "metadata": {},
   "outputs": [
    {
     "data": {
      "image/png": "[encoded data removed]",
      "text/plain": [
       "<Figure size 864x720 with 2 Axes>"
      ]
     },
     "metadata": {},
     "output_type": "display_data"
    }
   ],
   "source": [
    "pyplot.figure(1, figsize = (12,10))\n",
    "pyplot.subplot(211)\n",
    "y.passengers.hist()\n",
    "pyplot.subplot(212)\n",
    "y.passengers.plot(kind='kde')\n",
    "pyplot.show()"
   ]
  },
  {
   "cell_type": "markdown",
   "metadata": {},
   "source": [
    "From above graphs we can infer that:\n",
    "1. The distribution is not a normal distribution.\n",
    "\n",
    "2. The distribution is left shifted.\n"
   ]
  },
  {
   "cell_type": "markdown",
   "metadata": {},
   "source": [
    "### Pre Processing"
   ]
  },
  {
   "cell_type": "code",
   "execution_count": 15,
   "metadata": {},
   "outputs": [
    {
     "data": {
      "text/plain": [
       "(144, 1)"
      ]
     },
     "execution_count": 15,
     "metadata": {},
     "output_type": "execute_result"
    }
   ],
   "source": [
    "dataset = df['passengers']\n",
    "dataset = np.array(dataset).reshape(-1,1)\n",
    "dataset = dataset.astype(\"float32\")\n",
    "dataset.shape"
   ]
  },
  {
   "cell_type": "code",
   "execution_count": 16,
   "metadata": {},
   "outputs": [],
   "source": [
    "#Normalizing the data\n",
    "scaler = MinMaxScaler(feature_range=(0, 1))\n",
    "dataset = scaler.fit_transform(dataset)"
   ]
  },
  {
   "cell_type": "code",
   "execution_count": 17,
   "metadata": {},
   "outputs": [],
   "source": [
    "#Spli the data\n",
    "train_size = int(len(dataset) * 0.67)\n",
    "test_size = len(dataset) - train_size\n",
    "train, test = dataset[0:train_size,:], dataset[train_size:len(dataset),:]"
   ]
  },
  {
   "cell_type": "code",
   "execution_count": 18,
   "metadata": {},
   "outputs": [],
   "source": [
    "# convert an array of values into a dataset matrix\n",
    "def create_dataset(dataset, look_back=1):\n",
    "    dataX, dataY = [], []\n",
    "    for i in range(len(dataset)-look_back-1):\n",
    "        a = dataset[i:(i+look_back), 0]\n",
    "        dataX.append(a)\n",
    "        dataY.append(dataset[i + look_back, 0])\n",
    "    return np.array(dataX), np.array(dataY)\n",
    "# fix random seed for reproducibility\n",
    "np.random.seed(7)"
   ]
  },
  {
   "cell_type": "code",
   "execution_count": 19,
   "metadata": {},
   "outputs": [],
   "source": [
    "# reshape into X=t and Y=t+1\n",
    "look_back = 1\n",
    "trainX, trainY = create_dataset(train, look_back)\n",
    "testX, testY = create_dataset(test, look_back)\n",
    "# reshape input to be [samples, time steps, features]\n",
    "trainX = np.reshape(trainX, (trainX.shape[0], 1, trainX.shape[1]))\n",
    "testX = np.reshape(testX, (testX.shape[0], 1, testX.shape[1]))"
   ]
  },
  {
   "cell_type": "markdown",
   "metadata": {},
   "source": [
    "### LSTM model for regression"
   ]
  },
  {
   "cell_type": "code",
   "execution_count": 20,
   "metadata": {},
   "outputs": [
    {
     "name": "stdout",
     "output_type": "stream",
     "text": [
      "Epoch 1/80\n",
      "94/94 - 0s - loss: 0.0521\n",
      "Epoch 2/80\n",
      "94/94 - 0s - loss: 0.0268\n",
      "Epoch 3/80\n",
      "94/94 - 0s - loss: 0.0204\n",
      "Epoch 4/80\n",
      "94/94 - 0s - loss: 0.0182\n",
      "Epoch 5/80\n",
      "94/94 - 0s - loss: 0.0169\n",
      "Epoch 6/80\n",
      "94/94 - 0s - loss: 0.0159\n",
      "Epoch 7/80\n",
      "94/94 - 0s - loss: 0.0148\n",
      "Epoch 8/80\n",
      "94/94 - 0s - loss: 0.0136\n",
      "Epoch 9/80\n",
      "94/94 - 0s - loss: 0.0124\n",
      "Epoch 10/80\n",
      "94/94 - 0s - loss: 0.0111\n",
      "Epoch 11/80\n",
      "94/94 - 0s - loss: 0.0099\n",
      "Epoch 12/80\n",
      "94/94 - 0s - loss: 0.0086\n",
      "Epoch 13/80\n",
      "94/94 - 0s - loss: 0.0074\n",
      "Epoch 14/80\n",
      "94/94 - 0s - loss: 0.0063\n",
      "Epoch 15/80\n",
      "94/94 - 0s - loss: 0.0053\n",
      "Epoch 16/80\n",
      "94/94 - 0s - loss: 0.0044\n",
      "Epoch 17/80\n",
      "94/94 - 0s - loss: 0.0038\n",
      "Epoch 18/80\n",
      "94/94 - 0s - loss: 0.0032\n",
      "Epoch 19/80\n",
      "94/94 - 0s - loss: 0.0028\n",
      "Epoch 20/80\n",
      "94/94 - 0s - loss: 0.0025\n",
      "Epoch 21/80\n",
      "94/94 - 0s - loss: 0.0023\n",
      "Epoch 22/80\n",
      "94/94 - 0s - loss: 0.0022\n",
      "Epoch 23/80\n",
      "94/94 - 0s - loss: 0.0021\n",
      "Epoch 24/80\n",
      "94/94 - 0s - loss: 0.0021\n",
      "Epoch 25/80\n",
      "94/94 - 0s - loss: 0.0020\n",
      "Epoch 26/80\n",
      "94/94 - 0s - loss: 0.0020\n",
      "Epoch 27/80\n",
      "94/94 - 0s - loss: 0.0020\n",
      "Epoch 28/80\n",
      "94/94 - 0s - loss: 0.0020\n",
      "Epoch 29/80\n",
      "94/94 - 0s - loss: 0.0020\n",
      "Epoch 30/80\n",
      "94/94 - 0s - loss: 0.0020\n",
      "Epoch 31/80\n",
      "94/94 - 0s - loss: 0.0019\n",
      "Epoch 32/80\n",
      "94/94 - 0s - loss: 0.0020\n",
      "Epoch 33/80\n",
      "94/94 - 0s - loss: 0.0020\n",
      "Epoch 34/80\n",
      "94/94 - 0s - loss: 0.0019\n",
      "Epoch 35/80\n",
      "94/94 - 0s - loss: 0.0020\n",
      "Epoch 36/80\n",
      "94/94 - 0s - loss: 0.0020\n",
      "Epoch 37/80\n",
      "94/94 - 0s - loss: 0.0020\n",
      "Epoch 38/80\n",
      "94/94 - 0s - loss: 0.0020\n",
      "Epoch 39/80\n",
      "94/94 - 0s - loss: 0.0020\n",
      "Epoch 40/80\n",
      "94/94 - 0s - loss: 0.0020\n",
      "Epoch 41/80\n",
      "94/94 - 0s - loss: 0.0021\n",
      "Epoch 42/80\n",
      "94/94 - 0s - loss: 0.0019\n",
      "Epoch 43/80\n",
      "94/94 - 0s - loss: 0.0020\n",
      "Epoch 44/80\n",
      "94/94 - 0s - loss: 0.0020\n",
      "Epoch 45/80\n",
      "94/94 - 0s - loss: 0.0020\n",
      "Epoch 46/80\n",
      "94/94 - 0s - loss: 0.0020\n",
      "Epoch 47/80\n",
      "94/94 - 0s - loss: 0.0020\n",
      "Epoch 48/80\n",
      "94/94 - 0s - loss: 0.0020\n",
      "Epoch 49/80\n",
      "94/94 - 0s - loss: 0.0020\n",
      "Epoch 50/80\n",
      "94/94 - 0s - loss: 0.0020\n",
      "Epoch 51/80\n",
      "94/94 - 0s - loss: 0.0021\n",
      "Epoch 52/80\n",
      "94/94 - 0s - loss: 0.0019\n",
      "Epoch 53/80\n",
      "94/94 - 0s - loss: 0.0020\n",
      "Epoch 54/80\n",
      "94/94 - 0s - loss: 0.0020\n",
      "Epoch 55/80\n",
      "94/94 - 0s - loss: 0.0020\n",
      "Epoch 56/80\n",
      "94/94 - 0s - loss: 0.0019\n",
      "Epoch 57/80\n",
      "94/94 - 0s - loss: 0.0020\n",
      "Epoch 58/80\n",
      "94/94 - 0s - loss: 0.0021\n",
      "Epoch 59/80\n",
      "94/94 - 0s - loss: 0.0019\n",
      "Epoch 60/80\n",
      "94/94 - 0s - loss: 0.0020\n",
      "Epoch 61/80\n",
      "94/94 - 0s - loss: 0.0020\n",
      "Epoch 62/80\n",
      "94/94 - 0s - loss: 0.0020\n",
      "Epoch 63/80\n",
      "94/94 - 0s - loss: 0.0020\n",
      "Epoch 64/80\n",
      "94/94 - 0s - loss: 0.0020\n",
      "Epoch 65/80\n",
      "94/94 - 0s - loss: 0.0020\n",
      "Epoch 66/80\n",
      "94/94 - 0s - loss: 0.0020\n",
      "Epoch 67/80\n",
      "94/94 - 0s - loss: 0.0020\n",
      "Epoch 68/80\n",
      "94/94 - 0s - loss: 0.0020\n",
      "Epoch 69/80\n",
      "94/94 - 0s - loss: 0.0020\n",
      "Epoch 70/80\n",
      "94/94 - 0s - loss: 0.0020\n",
      "Epoch 71/80\n",
      "94/94 - 0s - loss: 0.0020\n",
      "Epoch 72/80\n",
      "94/94 - 0s - loss: 0.0020\n",
      "Epoch 73/80\n",
      "94/94 - 0s - loss: 0.0020\n",
      "Epoch 74/80\n",
      "94/94 - 0s - loss: 0.0019\n",
      "Epoch 75/80\n",
      "94/94 - 0s - loss: 0.0020\n",
      "Epoch 76/80\n",
      "94/94 - 0s - loss: 0.0020\n",
      "Epoch 77/80\n",
      "94/94 - 0s - loss: 0.0020\n",
      "Epoch 78/80\n",
      "94/94 - 0s - loss: 0.0020\n",
      "Epoch 79/80\n",
      "94/94 - 0s - loss: 0.0019\n",
      "Epoch 80/80\n",
      "94/94 - 0s - loss: 0.0020\n"
     ]
    },
    {
     "data": {
      "text/plain": [
       "<tensorflow.python.keras.callbacks.History at 0x2198dd97e20>"
      ]
     },
     "execution_count": 20,
     "metadata": {},
     "output_type": "execute_result"
    }
   ],
   "source": [
    "# create and fit the LSTM network\n",
    "model = Sequential()\n",
    "model.add(LSTM(4, input_shape=(1, look_back)))\n",
    "model.add(Dense(1))\n",
    "model.compile(loss='mean_squared_error', optimizer='adam')\n",
    "model.fit(trainX, trainY, epochs=80, batch_size=1, verbose=2)"
   ]
  },
  {
   "cell_type": "code",
   "execution_count": 21,
   "metadata": {},
   "outputs": [],
   "source": [
    "# make predictions\n",
    "trainPredict = model.predict(trainX)\n",
    "testPredict = model.predict(testX)\n",
    "# invert predictions\n",
    "trainPredict = scaler.inverse_transform(trainPredict)\n",
    "trainY = scaler.inverse_transform([trainY])\n",
    "testPredict = scaler.inverse_transform(testPredict)\n",
    "testY = scaler.inverse_transform([testY])"
   ]
  },
  {
   "cell_type": "code",
   "execution_count": 22,
   "metadata": {},
   "outputs": [
    {
     "name": "stdout",
     "output_type": "stream",
     "text": [
      "Train Score: 22.68 RMSE\n",
      "Test Score: 50.26 RMSE\n"
     ]
    }
   ],
   "source": [
    "# calculate root mean squared error\n",
    "trainScore = math.sqrt(mean_squared_error(trainY[0], trainPredict[:,0]))\n",
    "print('Train Score: %.2f RMSE' % (trainScore))\n",
    "testScore = math.sqrt(mean_squared_error(testY[0], testPredict[:,0]))\n",
    "print('Test Score: %.2f RMSE' % (testScore))"
   ]
  },
  {
   "cell_type": "code",
   "execution_count": 23,
   "metadata": {},
   "outputs": [],
   "source": [
    "# shift train predictions for plotting\n",
    "trainPredictPlot = np.empty_like(dataset)\n",
    "trainPredictPlot[:, :] = np.nan\n",
    "trainPredictPlot[look_back:len(trainPredict)+look_back, :] = trainPredict\n",
    "# shift test predictions for plotting\n",
    "testPredictPlot = np.empty_like(dataset)\n",
    "testPredictPlot[:, :] = np.nan\n",
    "testPredictPlot[len(trainPredict)+(look_back*2)+1:len(dataset)-1, :] = testPredict"
   ]
  },
  {
   "cell_type": "code",
   "execution_count": 24,
   "metadata": {},
   "outputs": [
    {
     "data": {
      "image/png": "[encoded data removed]",
      "text/plain": [
       "<Figure size 432x288 with 1 Axes>"
      ]
     },
     "metadata": {},
     "output_type": "display_data"
    }
   ],
   "source": [
    "plt.plot(scaler.inverse_transform(dataset))\n",
    "plt.plot(trainPredictPlot)\n",
    "plt.plot(testPredictPlot)\n",
    "plt.show()"
   ]
  },
  {
   "cell_type": "markdown",
   "metadata": {},
   "source": [
    "### LSTM for Regression using Window method"
   ]
  },
  {
   "cell_type": "code",
   "execution_count": 25,
   "metadata": {},
   "outputs": [],
   "source": [
    "# reshape into X=t and Y=t+1\n",
    "look_back = 4\n",
    "trainX, trainY = create_dataset(train, look_back)\n",
    "testX, testY = create_dataset(test, look_back)\n",
    "# reshape input to be [samples, time steps, features]\n",
    "trainX = np.reshape(trainX, (trainX.shape[0], 1, trainX.shape[1]))\n",
    "testX = np.reshape(testX, (testX.shape[0], 1, testX.shape[1]))"
   ]
  },
  {
   "cell_type": "code",
   "execution_count": 26,
   "metadata": {},
   "outputs": [
    {
     "name": "stdout",
     "output_type": "stream",
     "text": [
      "Epoch 1/100\n",
      "91/91 - 0s - loss: 0.0384\n",
      "Epoch 2/100\n",
      "91/91 - 0s - loss: 0.0144\n",
      "Epoch 3/100\n",
      "91/91 - 0s - loss: 0.0098\n",
      "Epoch 4/100\n",
      "91/91 - 0s - loss: 0.0083\n",
      "Epoch 5/100\n",
      "91/91 - 0s - loss: 0.0071\n",
      "Epoch 6/100\n",
      "91/91 - 0s - loss: 0.0061\n",
      "Epoch 7/100\n",
      "91/91 - 0s - loss: 0.0053\n",
      "Epoch 8/100\n",
      "91/91 - 0s - loss: 0.0046\n",
      "Epoch 9/100\n",
      "91/91 - 0s - loss: 0.0042\n",
      "Epoch 10/100\n",
      "91/91 - 0s - loss: 0.0039\n",
      "Epoch 11/100\n",
      "91/91 - 0s - loss: 0.0037\n",
      "Epoch 12/100\n",
      "91/91 - 0s - loss: 0.0036\n",
      "Epoch 13/100\n",
      "91/91 - 0s - loss: 0.0035\n",
      "Epoch 14/100\n",
      "91/91 - 0s - loss: 0.0034\n",
      "Epoch 15/100\n",
      "91/91 - 0s - loss: 0.0033\n",
      "Epoch 16/100\n",
      "91/91 - 0s - loss: 0.0033\n",
      "Epoch 17/100\n",
      "91/91 - 0s - loss: 0.0032\n",
      "Epoch 18/100\n",
      "91/91 - 0s - loss: 0.0032\n",
      "Epoch 19/100\n",
      "91/91 - 0s - loss: 0.0032\n",
      "Epoch 20/100\n",
      "91/91 - 0s - loss: 0.0031\n",
      "Epoch 21/100\n",
      "91/91 - 0s - loss: 0.0030\n",
      "Epoch 22/100\n",
      "91/91 - 0s - loss: 0.0030\n",
      "Epoch 23/100\n",
      "91/91 - 0s - loss: 0.0031\n",
      "Epoch 24/100\n",
      "91/91 - 0s - loss: 0.0030\n",
      "Epoch 25/100\n",
      "91/91 - 0s - loss: 0.0029\n",
      "Epoch 26/100\n",
      "91/91 - 0s - loss: 0.0029\n",
      "Epoch 27/100\n",
      "91/91 - 0s - loss: 0.0029\n",
      "Epoch 28/100\n",
      "91/91 - 0s - loss: 0.0028\n",
      "Epoch 29/100\n",
      "91/91 - 0s - loss: 0.0028\n",
      "Epoch 30/100\n",
      "91/91 - 0s - loss: 0.0029\n",
      "Epoch 31/100\n",
      "91/91 - 0s - loss: 0.0028\n",
      "Epoch 32/100\n",
      "91/91 - 0s - loss: 0.0027\n",
      "Epoch 33/100\n",
      "91/91 - 0s - loss: 0.0026\n",
      "Epoch 34/100\n",
      "91/91 - 0s - loss: 0.0028\n",
      "Epoch 35/100\n",
      "91/91 - 0s - loss: 0.0026\n",
      "Epoch 36/100\n",
      "91/91 - 0s - loss: 0.0027\n",
      "Epoch 37/100\n",
      "91/91 - 0s - loss: 0.0027\n",
      "Epoch 38/100\n",
      "91/91 - 0s - loss: 0.0026\n",
      "Epoch 39/100\n",
      "91/91 - 0s - loss: 0.0025\n",
      "Epoch 40/100\n",
      "91/91 - 0s - loss: 0.0025\n",
      "Epoch 41/100\n",
      "91/91 - 0s - loss: 0.0024\n",
      "Epoch 42/100\n",
      "91/91 - 0s - loss: 0.0026\n",
      "Epoch 43/100\n",
      "91/91 - 0s - loss: 0.0023\n",
      "Epoch 44/100\n",
      "91/91 - 0s - loss: 0.0027\n",
      "Epoch 45/100\n",
      "91/91 - 0s - loss: 0.0024\n",
      "Epoch 46/100\n",
      "91/91 - 0s - loss: 0.0024\n",
      "Epoch 47/100\n",
      "91/91 - 0s - loss: 0.0024\n",
      "Epoch 48/100\n",
      "91/91 - 0s - loss: 0.0023\n",
      "Epoch 49/100\n",
      "91/91 - 0s - loss: 0.0024\n",
      "Epoch 50/100\n",
      "91/91 - 0s - loss: 0.0024\n",
      "Epoch 51/100\n",
      "91/91 - 0s - loss: 0.0023\n",
      "Epoch 52/100\n",
      "91/91 - 0s - loss: 0.0022\n",
      "Epoch 53/100\n",
      "91/91 - 0s - loss: 0.0022\n",
      "Epoch 54/100\n",
      "91/91 - 0s - loss: 0.0022\n",
      "Epoch 55/100\n",
      "91/91 - 0s - loss: 0.0023\n",
      "Epoch 56/100\n",
      "91/91 - 0s - loss: 0.0021\n",
      "Epoch 57/100\n",
      "91/91 - 0s - loss: 0.0021\n",
      "Epoch 58/100\n",
      "91/91 - 0s - loss: 0.0021\n",
      "Epoch 59/100\n",
      "91/91 - 0s - loss: 0.0022\n",
      "Epoch 60/100\n",
      "91/91 - 0s - loss: 0.0021\n",
      "Epoch 61/100\n",
      "91/91 - 0s - loss: 0.0021\n",
      "Epoch 62/100\n",
      "91/91 - 0s - loss: 0.0022\n",
      "Epoch 63/100\n",
      "91/91 - 0s - loss: 0.0021\n",
      "Epoch 64/100\n",
      "91/91 - 0s - loss: 0.0020\n",
      "Epoch 65/100\n",
      "91/91 - 0s - loss: 0.0022\n",
      "Epoch 66/100\n",
      "91/91 - 0s - loss: 0.0021\n",
      "Epoch 67/100\n",
      "91/91 - 0s - loss: 0.0020\n",
      "Epoch 68/100\n",
      "91/91 - 0s - loss: 0.0020\n",
      "Epoch 69/100\n",
      "91/91 - 0s - loss: 0.0020\n",
      "Epoch 70/100\n",
      "91/91 - 0s - loss: 0.0020\n",
      "Epoch 71/100\n",
      "91/91 - 0s - loss: 0.0021\n",
      "Epoch 72/100\n",
      "91/91 - 0s - loss: 0.0020\n",
      "Epoch 73/100\n",
      "91/91 - 0s - loss: 0.0021\n",
      "Epoch 74/100\n",
      "91/91 - 0s - loss: 0.0020\n",
      "Epoch 75/100\n",
      "91/91 - 0s - loss: 0.0020\n",
      "Epoch 76/100\n",
      "91/91 - 0s - loss: 0.0019\n",
      "Epoch 77/100\n",
      "91/91 - 0s - loss: 0.0019\n",
      "Epoch 78/100\n",
      "91/91 - 0s - loss: 0.0019\n",
      "Epoch 79/100\n",
      "91/91 - 0s - loss: 0.0020\n",
      "Epoch 80/100\n",
      "91/91 - 0s - loss: 0.0019\n",
      "Epoch 81/100\n",
      "91/91 - 0s - loss: 0.0020\n",
      "Epoch 82/100\n",
      "91/91 - 0s - loss: 0.0019\n",
      "Epoch 83/100\n",
      "91/91 - 0s - loss: 0.0019\n",
      "Epoch 84/100\n",
      "91/91 - 0s - loss: 0.0019\n",
      "Epoch 85/100\n",
      "91/91 - 0s - loss: 0.0020\n",
      "Epoch 86/100\n",
      "91/91 - 0s - loss: 0.0020\n",
      "Epoch 87/100\n",
      "91/91 - 0s - loss: 0.0019\n",
      "Epoch 88/100\n",
      "91/91 - 0s - loss: 0.0018\n",
      "Epoch 89/100\n",
      "91/91 - 0s - loss: 0.0019\n",
      "Epoch 90/100\n",
      "91/91 - 0s - loss: 0.0019\n",
      "Epoch 91/100\n",
      "91/91 - 0s - loss: 0.0020\n",
      "Epoch 92/100\n",
      "91/91 - 0s - loss: 0.0019\n",
      "Epoch 93/100\n",
      "91/91 - 0s - loss: 0.0019\n",
      "Epoch 94/100\n",
      "91/91 - 0s - loss: 0.0019\n",
      "Epoch 95/100\n",
      "91/91 - 0s - loss: 0.0018\n",
      "Epoch 96/100\n",
      "91/91 - 0s - loss: 0.0019\n",
      "Epoch 97/100\n",
      "91/91 - 0s - loss: 0.0019\n",
      "Epoch 98/100\n",
      "91/91 - 0s - loss: 0.0019\n",
      "Epoch 99/100\n",
      "91/91 - 0s - loss: 0.0019\n",
      "Epoch 100/100\n",
      "91/91 - 0s - loss: 0.0018\n"
     ]
    },
    {
     "data": {
      "text/plain": [
       "<tensorflow.python.keras.callbacks.History at 0x21991ac93d0>"
      ]
     },
     "execution_count": 26,
     "metadata": {},
     "output_type": "execute_result"
    }
   ],
   "source": [
    "# create and fit the LSTM network\n",
    "model = Sequential()\n",
    "model.add(LSTM(4, input_shape=(1, look_back)))\n",
    "model.add(Dense(1))\n",
    "model.compile(loss='mean_squared_error', optimizer='adam')\n",
    "model.fit(trainX, trainY, epochs=100, batch_size=1, verbose=2)"
   ]
  },
  {
   "cell_type": "code",
   "execution_count": 27,
   "metadata": {},
   "outputs": [],
   "source": [
    "# make predictions\n",
    "trainPredict = model.predict(trainX)\n",
    "testPredict = model.predict(testX)\n",
    "# invert predictions\n",
    "trainPredict = scaler.inverse_transform(trainPredict)\n",
    "trainY = scaler.inverse_transform([trainY])\n",
    "testPredict = scaler.inverse_transform(testPredict)\n",
    "testY = scaler.inverse_transform([testY])"
   ]
  },
  {
   "cell_type": "code",
   "execution_count": 28,
   "metadata": {},
   "outputs": [
    {
     "name": "stdout",
     "output_type": "stream",
     "text": [
      "Train Score: 21.70 RMSE\n",
      "Test Score: 66.60 RMSE\n"
     ]
    }
   ],
   "source": [
    "# calculate root mean squared error\n",
    "trainScore = math.sqrt(mean_squared_error(trainY[0], trainPredict[:,0]))\n",
    "print('Train Score: %.2f RMSE' % (trainScore))\n",
    "testScore = math.sqrt(mean_squared_error(testY[0], testPredict[:,0]))\n",
    "print('Test Score: %.2f RMSE' % (testScore))"
   ]
  },
  {
   "cell_type": "code",
   "execution_count": 29,
   "metadata": {},
   "outputs": [],
   "source": [
    "# shift train predictions for plotting\n",
    "trainPredictPlot = np.empty_like(dataset)\n",
    "trainPredictPlot[:, :] = np.nan\n",
    "trainPredictPlot[look_back:len(trainPredict)+look_back, :] = trainPredict\n",
    "# shift test predictions for plotting\n",
    "testPredictPlot = np.empty_like(dataset)\n",
    "testPredictPlot[:, :] = np.nan\n",
    "testPredictPlot[len(trainPredict)+(look_back*2)+1:len(dataset)-1, :] = testPredict"
   ]
  },
  {
   "cell_type": "code",
   "execution_count": 30,
   "metadata": {},
   "outputs": [
    {
     "data": {
      "image/png": "[encoded data removed]",
      "text/plain": [
       "<Figure size 432x288 with 1 Axes>"
      ]
     },
     "metadata": {},
     "output_type": "display_data"
    }
   ],
   "source": [
    "# plot baseline and predictions\n",
    "plt.plot(scaler.inverse_transform(dataset))\n",
    "plt.plot(trainPredictPlot)\n",
    "plt.plot(testPredictPlot)\n",
    "plt.show()"
   ]
  }
 ],
 "metadata": {
  "kernelspec": {
   "display_name": "Python 3",
   "language": "python",
   "name": "python3"
  },
  "language_info": {
   "codemirror_mode": {
    "name": "ipython",
    "version": 3
   },
   "file_extension": ".py",
   "mimetype": "text/x-python",
   "name": "python",
   "nbconvert_exporter": "python",
   "pygments_lexer": "ipython3",
   "version": "3.8.3"
  }
 },
 "nbformat": 4,
 "nbformat_minor": 4
}
